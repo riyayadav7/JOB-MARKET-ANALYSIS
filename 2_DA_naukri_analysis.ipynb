{
  "nbformat": 4,
  "nbformat_minor": 0,
  "metadata": {
    "colab": {
      "name": "2.DA_naukri_analysis.ipynb",
      "provenance": [],
      "collapsed_sections": []
    },
    "kernelspec": {
      "name": "python3",
      "display_name": "Python 3"
    },
    "language_info": {
      "name": "python"
    }
  },
  "cells": [
    {
      "cell_type": "code",
      "execution_count": null,
      "metadata": {
        "id": "dlfuRx4seJo8"
      },
      "outputs": [],
      "source": [
        "# Descriptive Satatistics Data Analysis"
      ]
    },
    {
      "cell_type": "code",
      "source": [
        "import pandas as pd\n",
        "import numpy as np\n",
        "import seaborn as sns\n",
        "import matplotlib.pyplot as plt\n",
        "\n",
        "import warnings\n",
        "warnings.filterwarnings('ignore')"
      ],
      "metadata": {
        "id": "mEPwDoi5eWAz"
      },
      "execution_count": null,
      "outputs": []
    },
    {
      "cell_type": "code",
      "source": [
        "from google.colab import drive\n",
        "drive.mount('/content/drive')"
      ],
      "metadata": {
        "colab": {
          "base_uri": "https://localhost:8080/"
        },
        "id": "5stNYnsDfhMF",
        "outputId": "e75d7449-9387-49fc-a1a6-8314f6b674c4"
      },
      "execution_count": null,
      "outputs": [
        {
          "output_type": "stream",
          "name": "stdout",
          "text": [
            "Mounted at /content/drive\n"
          ]
        }
      ]
    },
    {
      "cell_type": "code",
      "source": [
        "df=pd.read_csv(r'/content/drive/MyDrive/Colab Notebooks/naukri_com-job_sample.csv')"
      ],
      "metadata": {
        "id": "KvR4x4Pje0lZ"
      },
      "execution_count": null,
      "outputs": []
    },
    {
      "cell_type": "code",
      "source": [
        "df.head(3)"
      ],
      "metadata": {
        "id": "TERP0jydfxEr",
        "outputId": "765ae398-c7e1-44dc-c401-d4135ccd4204",
        "colab": {
          "base_uri": "https://localhost:8080/",
          "height": 433
        }
      },
      "execution_count": null,
      "outputs": [
        {
          "output_type": "execute_result",
          "data": {
            "text/html": [
              "\n",
              "  <div id=\"df-98a2d418-06fd-4e33-bdc1-ab37c487808b\">\n",
              "    <div class=\"colab-df-container\">\n",
              "      <div>\n",
              "<style scoped>\n",
              "    .dataframe tbody tr th:only-of-type {\n",
              "        vertical-align: middle;\n",
              "    }\n",
              "\n",
              "    .dataframe tbody tr th {\n",
              "        vertical-align: top;\n",
              "    }\n",
              "\n",
              "    .dataframe thead th {\n",
              "        text-align: right;\n",
              "    }\n",
              "</style>\n",
              "<table border=\"1\" class=\"dataframe\">\n",
              "  <thead>\n",
              "    <tr style=\"text-align: right;\">\n",
              "      <th></th>\n",
              "      <th>company</th>\n",
              "      <th>education</th>\n",
              "      <th>industry</th>\n",
              "      <th>jobdescription</th>\n",
              "      <th>jobid</th>\n",
              "      <th>joblocation_address</th>\n",
              "      <th>jobtitle</th>\n",
              "      <th>numberofpositions</th>\n",
              "      <th>site_name</th>\n",
              "      <th>skills</th>\n",
              "      <th>min_pay</th>\n",
              "      <th>max_pay</th>\n",
              "      <th>min_exp</th>\n",
              "      <th>max_exp</th>\n",
              "      <th>avg_exp</th>\n",
              "      <th>avg_pay</th>\n",
              "      <th>day</th>\n",
              "      <th>month</th>\n",
              "      <th>year</th>\n",
              "    </tr>\n",
              "  </thead>\n",
              "  <tbody>\n",
              "    <tr>\n",
              "      <th>0</th>\n",
              "      <td>MM Media Pvt Ltd</td>\n",
              "      <td>UG: B.Tech/B.E. - Any Specialization PG:Any Po...</td>\n",
              "      <td>Media / Entertainment / Internet</td>\n",
              "      <td>Job Description   Send me Jobs like this Quali...</td>\n",
              "      <td>210516002263</td>\n",
              "      <td>Chennai</td>\n",
              "      <td>Walkin Data Entry Operator (night Shift)</td>\n",
              "      <td>NaN</td>\n",
              "      <td>NaN</td>\n",
              "      <td>ITES</td>\n",
              "      <td>150000.0</td>\n",
              "      <td>225000.0</td>\n",
              "      <td>0.0</td>\n",
              "      <td>1.0</td>\n",
              "      <td>0.5</td>\n",
              "      <td>187500.0</td>\n",
              "      <td>21.0</td>\n",
              "      <td>5.0</td>\n",
              "      <td>2016.0</td>\n",
              "    </tr>\n",
              "    <tr>\n",
              "      <th>1</th>\n",
              "      <td>find live infotech</td>\n",
              "      <td>UG: B.Tech/B.E. - Any Specialization PG:MBA/PG...</td>\n",
              "      <td>Advertising / PR / MR / Event Management</td>\n",
              "      <td>Job Description   Send me Jobs like this Quali...</td>\n",
              "      <td>210516002391</td>\n",
              "      <td>Chennai</td>\n",
              "      <td>Work Based Onhome Based Part Time.</td>\n",
              "      <td>60.0</td>\n",
              "      <td>NaN</td>\n",
              "      <td>Marketing</td>\n",
              "      <td>150000.0</td>\n",
              "      <td>250000.0</td>\n",
              "      <td>0.0</td>\n",
              "      <td>0.0</td>\n",
              "      <td>0.0</td>\n",
              "      <td>200000.0</td>\n",
              "      <td>21.0</td>\n",
              "      <td>5.0</td>\n",
              "      <td>2016.0</td>\n",
              "    </tr>\n",
              "    <tr>\n",
              "      <th>2</th>\n",
              "      <td>Softtech Career Infosystem Pvt. Ltd</td>\n",
              "      <td>UG: Any Graduate - Any Specialization PG:Any P...</td>\n",
              "      <td>IT-Software / Software Services</td>\n",
              "      <td>Job Description   Send me Jobs like this - as ...</td>\n",
              "      <td>101016900534</td>\n",
              "      <td>Banglore</td>\n",
              "      <td>Pl/sql Developer - SQL</td>\n",
              "      <td>NaN</td>\n",
              "      <td>NaN</td>\n",
              "      <td>IT Software - Application Programming</td>\n",
              "      <td>NaN</td>\n",
              "      <td>NaN</td>\n",
              "      <td>4.0</td>\n",
              "      <td>8.0</td>\n",
              "      <td>6.0</td>\n",
              "      <td>NaN</td>\n",
              "      <td>13.0</td>\n",
              "      <td>10.0</td>\n",
              "      <td>2016.0</td>\n",
              "    </tr>\n",
              "  </tbody>\n",
              "</table>\n",
              "</div>\n",
              "      <button class=\"colab-df-convert\" onclick=\"convertToInteractive('df-98a2d418-06fd-4e33-bdc1-ab37c487808b')\"\n",
              "              title=\"Convert this dataframe to an interactive table.\"\n",
              "              style=\"display:none;\">\n",
              "        \n",
              "  <svg xmlns=\"http://www.w3.org/2000/svg\" height=\"24px\"viewBox=\"0 0 24 24\"\n",
              "       width=\"24px\">\n",
              "    <path d=\"M0 0h24v24H0V0z\" fill=\"none\"/>\n",
              "    <path d=\"M18.56 5.44l.94 2.06.94-2.06 2.06-.94-2.06-.94-.94-2.06-.94 2.06-2.06.94zm-11 1L8.5 8.5l.94-2.06 2.06-.94-2.06-.94L8.5 2.5l-.94 2.06-2.06.94zm10 10l.94 2.06.94-2.06 2.06-.94-2.06-.94-.94-2.06-.94 2.06-2.06.94z\"/><path d=\"M17.41 7.96l-1.37-1.37c-.4-.4-.92-.59-1.43-.59-.52 0-1.04.2-1.43.59L10.3 9.45l-7.72 7.72c-.78.78-.78 2.05 0 2.83L4 21.41c.39.39.9.59 1.41.59.51 0 1.02-.2 1.41-.59l7.78-7.78 2.81-2.81c.8-.78.8-2.07 0-2.86zM5.41 20L4 18.59l7.72-7.72 1.47 1.35L5.41 20z\"/>\n",
              "  </svg>\n",
              "      </button>\n",
              "      \n",
              "  <style>\n",
              "    .colab-df-container {\n",
              "      display:flex;\n",
              "      flex-wrap:wrap;\n",
              "      gap: 12px;\n",
              "    }\n",
              "\n",
              "    .colab-df-convert {\n",
              "      background-color: #E8F0FE;\n",
              "      border: none;\n",
              "      border-radius: 50%;\n",
              "      cursor: pointer;\n",
              "      display: none;\n",
              "      fill: #1967D2;\n",
              "      height: 32px;\n",
              "      padding: 0 0 0 0;\n",
              "      width: 32px;\n",
              "    }\n",
              "\n",
              "    .colab-df-convert:hover {\n",
              "      background-color: #E2EBFA;\n",
              "      box-shadow: 0px 1px 2px rgba(60, 64, 67, 0.3), 0px 1px 3px 1px rgba(60, 64, 67, 0.15);\n",
              "      fill: #174EA6;\n",
              "    }\n",
              "\n",
              "    [theme=dark] .colab-df-convert {\n",
              "      background-color: #3B4455;\n",
              "      fill: #D2E3FC;\n",
              "    }\n",
              "\n",
              "    [theme=dark] .colab-df-convert:hover {\n",
              "      background-color: #434B5C;\n",
              "      box-shadow: 0px 1px 3px 1px rgba(0, 0, 0, 0.15);\n",
              "      filter: drop-shadow(0px 1px 2px rgba(0, 0, 0, 0.3));\n",
              "      fill: #FFFFFF;\n",
              "    }\n",
              "  </style>\n",
              "\n",
              "      <script>\n",
              "        const buttonEl =\n",
              "          document.querySelector('#df-98a2d418-06fd-4e33-bdc1-ab37c487808b button.colab-df-convert');\n",
              "        buttonEl.style.display =\n",
              "          google.colab.kernel.accessAllowed ? 'block' : 'none';\n",
              "\n",
              "        async function convertToInteractive(key) {\n",
              "          const element = document.querySelector('#df-98a2d418-06fd-4e33-bdc1-ab37c487808b');\n",
              "          const dataTable =\n",
              "            await google.colab.kernel.invokeFunction('convertToInteractive',\n",
              "                                                     [key], {});\n",
              "          if (!dataTable) return;\n",
              "\n",
              "          const docLinkHtml = 'Like what you see? Visit the ' +\n",
              "            '<a target=\"_blank\" href=https://colab.research.google.com/notebooks/data_table.ipynb>data table notebook</a>'\n",
              "            + ' to learn more about interactive tables.';\n",
              "          element.innerHTML = '';\n",
              "          dataTable['output_type'] = 'display_data';\n",
              "          await google.colab.output.renderOutput(dataTable, element);\n",
              "          const docLink = document.createElement('div');\n",
              "          docLink.innerHTML = docLinkHtml;\n",
              "          element.appendChild(docLink);\n",
              "        }\n",
              "      </script>\n",
              "    </div>\n",
              "  </div>\n",
              "  "
            ],
            "text/plain": [
              "                               company  ...    year\n",
              "0                     MM Media Pvt Ltd  ...  2016.0\n",
              "1                   find live infotech  ...  2016.0\n",
              "2  Softtech Career Infosystem Pvt. Ltd  ...  2016.0\n",
              "\n",
              "[3 rows x 19 columns]"
            ]
          },
          "metadata": {},
          "execution_count": 5
        }
      ]
    },
    {
      "cell_type": "code",
      "source": [
        "df.describe().T"
      ],
      "metadata": {
        "id": "yx2sUScjfzKm",
        "colab": {
          "base_uri": "https://localhost:8080/",
          "height": 394
        },
        "outputId": "462035e8-0525-4b00-bf58-b69c8a3f1993"
      },
      "execution_count": null,
      "outputs": [
        {
          "output_type": "execute_result",
          "data": {
            "text/html": [
              "\n",
              "  <div id=\"df-9c8e2a84-9638-41a1-b8c8-459ee51734ab\">\n",
              "    <div class=\"colab-df-container\">\n",
              "      <div>\n",
              "<style scoped>\n",
              "    .dataframe tbody tr th:only-of-type {\n",
              "        vertical-align: middle;\n",
              "    }\n",
              "\n",
              "    .dataframe tbody tr th {\n",
              "        vertical-align: top;\n",
              "    }\n",
              "\n",
              "    .dataframe thead th {\n",
              "        text-align: right;\n",
              "    }\n",
              "</style>\n",
              "<table border=\"1\" class=\"dataframe\">\n",
              "  <thead>\n",
              "    <tr style=\"text-align: right;\">\n",
              "      <th></th>\n",
              "      <th>count</th>\n",
              "      <th>mean</th>\n",
              "      <th>std</th>\n",
              "      <th>min</th>\n",
              "      <th>25%</th>\n",
              "      <th>50%</th>\n",
              "      <th>75%</th>\n",
              "      <th>max</th>\n",
              "    </tr>\n",
              "  </thead>\n",
              "  <tbody>\n",
              "    <tr>\n",
              "      <th>jobid</th>\n",
              "      <td>22000.0</td>\n",
              "      <td>1.561171e+11</td>\n",
              "      <td>9.423956e+10</td>\n",
              "      <td>1.011600e+10</td>\n",
              "      <td>6.121650e+10</td>\n",
              "      <td>1.602169e+11</td>\n",
              "      <td>2.502166e+11</td>\n",
              "      <td>3.112155e+11</td>\n",
              "    </tr>\n",
              "    <tr>\n",
              "      <th>numberofpositions</th>\n",
              "      <td>4464.0</td>\n",
              "      <td>4.511694e+01</td>\n",
              "      <td>1.861972e+02</td>\n",
              "      <td>1.000000e+00</td>\n",
              "      <td>2.000000e+00</td>\n",
              "      <td>4.000000e+00</td>\n",
              "      <td>1.000000e+01</td>\n",
              "      <td>2.000000e+03</td>\n",
              "    </tr>\n",
              "    <tr>\n",
              "      <th>min_pay</th>\n",
              "      <td>4641.0</td>\n",
              "      <td>4.493986e+05</td>\n",
              "      <td>5.509237e+05</td>\n",
              "      <td>1.500000e+01</td>\n",
              "      <td>1.500000e+05</td>\n",
              "      <td>2.500000e+05</td>\n",
              "      <td>5.000000e+05</td>\n",
              "      <td>5.500000e+06</td>\n",
              "    </tr>\n",
              "    <tr>\n",
              "      <th>max_pay</th>\n",
              "      <td>4940.0</td>\n",
              "      <td>7.342964e+05</td>\n",
              "      <td>7.559780e+05</td>\n",
              "      <td>1.000000e+00</td>\n",
              "      <td>3.000000e+05</td>\n",
              "      <td>5.000000e+05</td>\n",
              "      <td>9.000000e+05</td>\n",
              "      <td>8.000000e+06</td>\n",
              "    </tr>\n",
              "    <tr>\n",
              "      <th>min_exp</th>\n",
              "      <td>21884.0</td>\n",
              "      <td>3.600987e+00</td>\n",
              "      <td>3.100532e+00</td>\n",
              "      <td>0.000000e+00</td>\n",
              "      <td>2.000000e+00</td>\n",
              "      <td>3.000000e+00</td>\n",
              "      <td>5.000000e+00</td>\n",
              "      <td>2.600000e+01</td>\n",
              "    </tr>\n",
              "    <tr>\n",
              "      <th>max_exp</th>\n",
              "      <td>21884.0</td>\n",
              "      <td>7.117803e+00</td>\n",
              "      <td>3.923900e+00</td>\n",
              "      <td>0.000000e+00</td>\n",
              "      <td>5.000000e+00</td>\n",
              "      <td>7.000000e+00</td>\n",
              "      <td>9.000000e+00</td>\n",
              "      <td>3.000000e+01</td>\n",
              "    </tr>\n",
              "    <tr>\n",
              "      <th>avg_exp</th>\n",
              "      <td>21884.0</td>\n",
              "      <td>5.359395e+00</td>\n",
              "      <td>3.444409e+00</td>\n",
              "      <td>0.000000e+00</td>\n",
              "      <td>3.000000e+00</td>\n",
              "      <td>4.500000e+00</td>\n",
              "      <td>7.000000e+00</td>\n",
              "      <td>2.800000e+01</td>\n",
              "    </tr>\n",
              "    <tr>\n",
              "      <th>avg_pay</th>\n",
              "      <td>4640.0</td>\n",
              "      <td>6.149812e+05</td>\n",
              "      <td>6.442135e+05</td>\n",
              "      <td>1.750000e+01</td>\n",
              "      <td>2.500000e+05</td>\n",
              "      <td>3.750000e+05</td>\n",
              "      <td>7.500000e+05</td>\n",
              "      <td>6.500000e+06</td>\n",
              "    </tr>\n",
              "    <tr>\n",
              "      <th>day</th>\n",
              "      <td>21977.0</td>\n",
              "      <td>1.884993e+01</td>\n",
              "      <td>9.751744e+00</td>\n",
              "      <td>1.000000e+00</td>\n",
              "      <td>9.000000e+00</td>\n",
              "      <td>2.200000e+01</td>\n",
              "      <td>2.900000e+01</td>\n",
              "      <td>3.100000e+01</td>\n",
              "    </tr>\n",
              "    <tr>\n",
              "      <th>month</th>\n",
              "      <td>21977.0</td>\n",
              "      <td>7.224189e+00</td>\n",
              "      <td>4.062145e+00</td>\n",
              "      <td>1.000000e+00</td>\n",
              "      <td>3.000000e+00</td>\n",
              "      <td>8.000000e+00</td>\n",
              "      <td>1.100000e+01</td>\n",
              "      <td>1.200000e+01</td>\n",
              "    </tr>\n",
              "    <tr>\n",
              "      <th>year</th>\n",
              "      <td>21977.0</td>\n",
              "      <td>2.015751e+03</td>\n",
              "      <td>4.505767e-01</td>\n",
              "      <td>2.015000e+03</td>\n",
              "      <td>2.015000e+03</td>\n",
              "      <td>2.016000e+03</td>\n",
              "      <td>2.016000e+03</td>\n",
              "      <td>2.017000e+03</td>\n",
              "    </tr>\n",
              "  </tbody>\n",
              "</table>\n",
              "</div>\n",
              "      <button class=\"colab-df-convert\" onclick=\"convertToInteractive('df-9c8e2a84-9638-41a1-b8c8-459ee51734ab')\"\n",
              "              title=\"Convert this dataframe to an interactive table.\"\n",
              "              style=\"display:none;\">\n",
              "        \n",
              "  <svg xmlns=\"http://www.w3.org/2000/svg\" height=\"24px\"viewBox=\"0 0 24 24\"\n",
              "       width=\"24px\">\n",
              "    <path d=\"M0 0h24v24H0V0z\" fill=\"none\"/>\n",
              "    <path d=\"M18.56 5.44l.94 2.06.94-2.06 2.06-.94-2.06-.94-.94-2.06-.94 2.06-2.06.94zm-11 1L8.5 8.5l.94-2.06 2.06-.94-2.06-.94L8.5 2.5l-.94 2.06-2.06.94zm10 10l.94 2.06.94-2.06 2.06-.94-2.06-.94-.94-2.06-.94 2.06-2.06.94z\"/><path d=\"M17.41 7.96l-1.37-1.37c-.4-.4-.92-.59-1.43-.59-.52 0-1.04.2-1.43.59L10.3 9.45l-7.72 7.72c-.78.78-.78 2.05 0 2.83L4 21.41c.39.39.9.59 1.41.59.51 0 1.02-.2 1.41-.59l7.78-7.78 2.81-2.81c.8-.78.8-2.07 0-2.86zM5.41 20L4 18.59l7.72-7.72 1.47 1.35L5.41 20z\"/>\n",
              "  </svg>\n",
              "      </button>\n",
              "      \n",
              "  <style>\n",
              "    .colab-df-container {\n",
              "      display:flex;\n",
              "      flex-wrap:wrap;\n",
              "      gap: 12px;\n",
              "    }\n",
              "\n",
              "    .colab-df-convert {\n",
              "      background-color: #E8F0FE;\n",
              "      border: none;\n",
              "      border-radius: 50%;\n",
              "      cursor: pointer;\n",
              "      display: none;\n",
              "      fill: #1967D2;\n",
              "      height: 32px;\n",
              "      padding: 0 0 0 0;\n",
              "      width: 32px;\n",
              "    }\n",
              "\n",
              "    .colab-df-convert:hover {\n",
              "      background-color: #E2EBFA;\n",
              "      box-shadow: 0px 1px 2px rgba(60, 64, 67, 0.3), 0px 1px 3px 1px rgba(60, 64, 67, 0.15);\n",
              "      fill: #174EA6;\n",
              "    }\n",
              "\n",
              "    [theme=dark] .colab-df-convert {\n",
              "      background-color: #3B4455;\n",
              "      fill: #D2E3FC;\n",
              "    }\n",
              "\n",
              "    [theme=dark] .colab-df-convert:hover {\n",
              "      background-color: #434B5C;\n",
              "      box-shadow: 0px 1px 3px 1px rgba(0, 0, 0, 0.15);\n",
              "      filter: drop-shadow(0px 1px 2px rgba(0, 0, 0, 0.3));\n",
              "      fill: #FFFFFF;\n",
              "    }\n",
              "  </style>\n",
              "\n",
              "      <script>\n",
              "        const buttonEl =\n",
              "          document.querySelector('#df-9c8e2a84-9638-41a1-b8c8-459ee51734ab button.colab-df-convert');\n",
              "        buttonEl.style.display =\n",
              "          google.colab.kernel.accessAllowed ? 'block' : 'none';\n",
              "\n",
              "        async function convertToInteractive(key) {\n",
              "          const element = document.querySelector('#df-9c8e2a84-9638-41a1-b8c8-459ee51734ab');\n",
              "          const dataTable =\n",
              "            await google.colab.kernel.invokeFunction('convertToInteractive',\n",
              "                                                     [key], {});\n",
              "          if (!dataTable) return;\n",
              "\n",
              "          const docLinkHtml = 'Like what you see? Visit the ' +\n",
              "            '<a target=\"_blank\" href=https://colab.research.google.com/notebooks/data_table.ipynb>data table notebook</a>'\n",
              "            + ' to learn more about interactive tables.';\n",
              "          element.innerHTML = '';\n",
              "          dataTable['output_type'] = 'display_data';\n",
              "          await google.colab.output.renderOutput(dataTable, element);\n",
              "          const docLink = document.createElement('div');\n",
              "          docLink.innerHTML = docLinkHtml;\n",
              "          element.appendChild(docLink);\n",
              "        }\n",
              "      </script>\n",
              "    </div>\n",
              "  </div>\n",
              "  "
            ],
            "text/plain": [
              "                     count          mean  ...           75%           max\n",
              "jobid              22000.0  1.561171e+11  ...  2.502166e+11  3.112155e+11\n",
              "numberofpositions   4464.0  4.511694e+01  ...  1.000000e+01  2.000000e+03\n",
              "min_pay             4641.0  4.493986e+05  ...  5.000000e+05  5.500000e+06\n",
              "max_pay             4940.0  7.342964e+05  ...  9.000000e+05  8.000000e+06\n",
              "min_exp            21884.0  3.600987e+00  ...  5.000000e+00  2.600000e+01\n",
              "max_exp            21884.0  7.117803e+00  ...  9.000000e+00  3.000000e+01\n",
              "avg_exp            21884.0  5.359395e+00  ...  7.000000e+00  2.800000e+01\n",
              "avg_pay             4640.0  6.149812e+05  ...  7.500000e+05  6.500000e+06\n",
              "day                21977.0  1.884993e+01  ...  2.900000e+01  3.100000e+01\n",
              "month              21977.0  7.224189e+00  ...  1.100000e+01  1.200000e+01\n",
              "year               21977.0  2.015751e+03  ...  2.016000e+03  2.017000e+03\n",
              "\n",
              "[11 rows x 8 columns]"
            ]
          },
          "metadata": {},
          "execution_count": 6
        }
      ]
    },
    {
      "cell_type": "code",
      "source": [
        "#Describe data with respect to categorical values\n",
        "df.describe(include=['O']).T"
      ],
      "metadata": {
        "colab": {
          "base_uri": "https://localhost:8080/",
          "height": 300
        },
        "id": "qHycsHLYiZ5V",
        "outputId": "9d073b7d-48d6-4af0-d233-b2f256715761"
      },
      "execution_count": null,
      "outputs": [
        {
          "output_type": "execute_result",
          "data": {
            "text/html": [
              "\n",
              "  <div id=\"df-dfa2174d-620c-4f12-b2d4-3c806d24df3d\">\n",
              "    <div class=\"colab-df-container\">\n",
              "      <div>\n",
              "<style scoped>\n",
              "    .dataframe tbody tr th:only-of-type {\n",
              "        vertical-align: middle;\n",
              "    }\n",
              "\n",
              "    .dataframe tbody tr th {\n",
              "        vertical-align: top;\n",
              "    }\n",
              "\n",
              "    .dataframe thead th {\n",
              "        text-align: right;\n",
              "    }\n",
              "</style>\n",
              "<table border=\"1\" class=\"dataframe\">\n",
              "  <thead>\n",
              "    <tr style=\"text-align: right;\">\n",
              "      <th></th>\n",
              "      <th>count</th>\n",
              "      <th>unique</th>\n",
              "      <th>top</th>\n",
              "      <th>freq</th>\n",
              "    </tr>\n",
              "  </thead>\n",
              "  <tbody>\n",
              "    <tr>\n",
              "      <th>company</th>\n",
              "      <td>21996</td>\n",
              "      <td>8469</td>\n",
              "      <td>Indian Institute of Technology Bombay</td>\n",
              "      <td>403</td>\n",
              "    </tr>\n",
              "    <tr>\n",
              "      <th>education</th>\n",
              "      <td>20004</td>\n",
              "      <td>2355</td>\n",
              "      <td>UG: Any Graduate - Any Specialization, Graduat...</td>\n",
              "      <td>2015</td>\n",
              "    </tr>\n",
              "    <tr>\n",
              "      <th>industry</th>\n",
              "      <td>21995</td>\n",
              "      <td>63</td>\n",
              "      <td>IT-Software / Software Services</td>\n",
              "      <td>9216</td>\n",
              "    </tr>\n",
              "    <tr>\n",
              "      <th>jobdescription</th>\n",
              "      <td>21996</td>\n",
              "      <td>21063</td>\n",
              "      <td>Job Description   Send me Jobs like this Adver...</td>\n",
              "      <td>121</td>\n",
              "    </tr>\n",
              "    <tr>\n",
              "      <th>joblocation_address</th>\n",
              "      <td>21499</td>\n",
              "      <td>2171</td>\n",
              "      <td>Banglore/Bangalore</td>\n",
              "      <td>3775</td>\n",
              "    </tr>\n",
              "    <tr>\n",
              "      <th>jobtitle</th>\n",
              "      <td>22000</td>\n",
              "      <td>17564</td>\n",
              "      <td>Business Development Executive</td>\n",
              "      <td>93</td>\n",
              "    </tr>\n",
              "    <tr>\n",
              "      <th>site_name</th>\n",
              "      <td>3987</td>\n",
              "      <td>1</td>\n",
              "      <td>www.naukri.com</td>\n",
              "      <td>3987</td>\n",
              "    </tr>\n",
              "    <tr>\n",
              "      <th>skills</th>\n",
              "      <td>21472</td>\n",
              "      <td>45</td>\n",
              "      <td>IT Software - Application Programming</td>\n",
              "      <td>5989</td>\n",
              "    </tr>\n",
              "  </tbody>\n",
              "</table>\n",
              "</div>\n",
              "      <button class=\"colab-df-convert\" onclick=\"convertToInteractive('df-dfa2174d-620c-4f12-b2d4-3c806d24df3d')\"\n",
              "              title=\"Convert this dataframe to an interactive table.\"\n",
              "              style=\"display:none;\">\n",
              "        \n",
              "  <svg xmlns=\"http://www.w3.org/2000/svg\" height=\"24px\"viewBox=\"0 0 24 24\"\n",
              "       width=\"24px\">\n",
              "    <path d=\"M0 0h24v24H0V0z\" fill=\"none\"/>\n",
              "    <path d=\"M18.56 5.44l.94 2.06.94-2.06 2.06-.94-2.06-.94-.94-2.06-.94 2.06-2.06.94zm-11 1L8.5 8.5l.94-2.06 2.06-.94-2.06-.94L8.5 2.5l-.94 2.06-2.06.94zm10 10l.94 2.06.94-2.06 2.06-.94-2.06-.94-.94-2.06-.94 2.06-2.06.94z\"/><path d=\"M17.41 7.96l-1.37-1.37c-.4-.4-.92-.59-1.43-.59-.52 0-1.04.2-1.43.59L10.3 9.45l-7.72 7.72c-.78.78-.78 2.05 0 2.83L4 21.41c.39.39.9.59 1.41.59.51 0 1.02-.2 1.41-.59l7.78-7.78 2.81-2.81c.8-.78.8-2.07 0-2.86zM5.41 20L4 18.59l7.72-7.72 1.47 1.35L5.41 20z\"/>\n",
              "  </svg>\n",
              "      </button>\n",
              "      \n",
              "  <style>\n",
              "    .colab-df-container {\n",
              "      display:flex;\n",
              "      flex-wrap:wrap;\n",
              "      gap: 12px;\n",
              "    }\n",
              "\n",
              "    .colab-df-convert {\n",
              "      background-color: #E8F0FE;\n",
              "      border: none;\n",
              "      border-radius: 50%;\n",
              "      cursor: pointer;\n",
              "      display: none;\n",
              "      fill: #1967D2;\n",
              "      height: 32px;\n",
              "      padding: 0 0 0 0;\n",
              "      width: 32px;\n",
              "    }\n",
              "\n",
              "    .colab-df-convert:hover {\n",
              "      background-color: #E2EBFA;\n",
              "      box-shadow: 0px 1px 2px rgba(60, 64, 67, 0.3), 0px 1px 3px 1px rgba(60, 64, 67, 0.15);\n",
              "      fill: #174EA6;\n",
              "    }\n",
              "\n",
              "    [theme=dark] .colab-df-convert {\n",
              "      background-color: #3B4455;\n",
              "      fill: #D2E3FC;\n",
              "    }\n",
              "\n",
              "    [theme=dark] .colab-df-convert:hover {\n",
              "      background-color: #434B5C;\n",
              "      box-shadow: 0px 1px 3px 1px rgba(0, 0, 0, 0.15);\n",
              "      filter: drop-shadow(0px 1px 2px rgba(0, 0, 0, 0.3));\n",
              "      fill: #FFFFFF;\n",
              "    }\n",
              "  </style>\n",
              "\n",
              "      <script>\n",
              "        const buttonEl =\n",
              "          document.querySelector('#df-dfa2174d-620c-4f12-b2d4-3c806d24df3d button.colab-df-convert');\n",
              "        buttonEl.style.display =\n",
              "          google.colab.kernel.accessAllowed ? 'block' : 'none';\n",
              "\n",
              "        async function convertToInteractive(key) {\n",
              "          const element = document.querySelector('#df-dfa2174d-620c-4f12-b2d4-3c806d24df3d');\n",
              "          const dataTable =\n",
              "            await google.colab.kernel.invokeFunction('convertToInteractive',\n",
              "                                                     [key], {});\n",
              "          if (!dataTable) return;\n",
              "\n",
              "          const docLinkHtml = 'Like what you see? Visit the ' +\n",
              "            '<a target=\"_blank\" href=https://colab.research.google.com/notebooks/data_table.ipynb>data table notebook</a>'\n",
              "            + ' to learn more about interactive tables.';\n",
              "          element.innerHTML = '';\n",
              "          dataTable['output_type'] = 'display_data';\n",
              "          await google.colab.output.renderOutput(dataTable, element);\n",
              "          const docLink = document.createElement('div');\n",
              "          docLink.innerHTML = docLinkHtml;\n",
              "          element.appendChild(docLink);\n",
              "        }\n",
              "      </script>\n",
              "    </div>\n",
              "  </div>\n",
              "  "
            ],
            "text/plain": [
              "                     count  ...  freq\n",
              "company              21996  ...   403\n",
              "education            20004  ...  2015\n",
              "industry             21995  ...  9216\n",
              "jobdescription       21996  ...   121\n",
              "joblocation_address  21499  ...  3775\n",
              "jobtitle             22000  ...    93\n",
              "site_name             3987  ...  3987\n",
              "skills               21472  ...  5989\n",
              "\n",
              "[8 rows x 4 columns]"
            ]
          },
          "metadata": {},
          "execution_count": 7
        }
      ]
    },
    {
      "cell_type": "code",
      "source": [
        "# We will perform categorical & Numerical feature analysis\n",
        "# We will perform Bivariant analysis\n",
        "# We will find out the feature which is categorical in nature & Numerical in nature\n",
        "# It can be done by-\n",
        "#1. list comprehension\n",
        "#2. Dict\n",
        "#3. Filter & enumeration\n",
        "#4. Inbuilt function\n"
      ],
      "metadata": {
        "id": "jgkor1JPludU"
      },
      "execution_count": null,
      "outputs": []
    },
    {
      "cell_type": "code",
      "source": [
        "#1. List comprehension\n",
        "# Fetch categorical value\n",
        "categorical=[col for col in df.columns if df[col].dtypes=='object']"
      ],
      "metadata": {
        "id": "1Zzhii8T7Jsf"
      },
      "execution_count": null,
      "outputs": []
    },
    {
      "cell_type": "code",
      "source": [
        "categorical"
      ],
      "metadata": {
        "colab": {
          "base_uri": "https://localhost:8080/"
        },
        "id": "SaMzutkO75I2",
        "outputId": "fa56cb0a-15ff-4fa1-835b-44045685bb6c"
      },
      "execution_count": null,
      "outputs": [
        {
          "output_type": "execute_result",
          "data": {
            "text/plain": [
              "['company',\n",
              " 'education',\n",
              " 'industry',\n",
              " 'jobdescription',\n",
              " 'joblocation_address',\n",
              " 'jobtitle',\n",
              " 'site_name',\n",
              " 'skills']"
            ]
          },
          "metadata": {},
          "execution_count": 10
        }
      ]
    },
    {
      "cell_type": "code",
      "source": [
        "# Fetch Numeical  value\n",
        "numerical=[col for col in df.columns if df[col].dtypes!='object']"
      ],
      "metadata": {
        "id": "Zty8qhFa8Hze"
      },
      "execution_count": null,
      "outputs": []
    },
    {
      "cell_type": "code",
      "source": [
        "numerical"
      ],
      "metadata": {
        "colab": {
          "base_uri": "https://localhost:8080/"
        },
        "id": "ZPZXbkoP8a6Q",
        "outputId": "6887673f-07b5-43f2-8d21-39f0c4bc5810"
      },
      "execution_count": null,
      "outputs": [
        {
          "output_type": "execute_result",
          "data": {
            "text/plain": [
              "['jobid',\n",
              " 'numberofpositions',\n",
              " 'min_pay',\n",
              " 'max_pay',\n",
              " 'min_exp',\n",
              " 'max_exp',\n",
              " 'avg_exp',\n",
              " 'avg_pay',\n",
              " 'day',\n",
              " 'month',\n",
              " 'year']"
            ]
          },
          "metadata": {},
          "execution_count": 12
        }
      ]
    },
    {
      "cell_type": "code",
      "source": [
        " # We will find out the correlation\n",
        " df.corr()"
      ],
      "metadata": {
        "colab": {
          "base_uri": "https://localhost:8080/",
          "height": 394
        },
        "id": "VLBFjtd28cnJ",
        "outputId": "105961ba-3235-4ba9-ab26-af3e8d7762f0"
      },
      "execution_count": null,
      "outputs": [
        {
          "output_type": "execute_result",
          "data": {
            "text/html": [
              "\n",
              "  <div id=\"df-2c8b86a7-3443-4b4f-9b0a-fb252e039acc\">\n",
              "    <div class=\"colab-df-container\">\n",
              "      <div>\n",
              "<style scoped>\n",
              "    .dataframe tbody tr th:only-of-type {\n",
              "        vertical-align: middle;\n",
              "    }\n",
              "\n",
              "    .dataframe tbody tr th {\n",
              "        vertical-align: top;\n",
              "    }\n",
              "\n",
              "    .dataframe thead th {\n",
              "        text-align: right;\n",
              "    }\n",
              "</style>\n",
              "<table border=\"1\" class=\"dataframe\">\n",
              "  <thead>\n",
              "    <tr style=\"text-align: right;\">\n",
              "      <th></th>\n",
              "      <th>jobid</th>\n",
              "      <th>numberofpositions</th>\n",
              "      <th>min_pay</th>\n",
              "      <th>max_pay</th>\n",
              "      <th>min_exp</th>\n",
              "      <th>max_exp</th>\n",
              "      <th>avg_exp</th>\n",
              "      <th>avg_pay</th>\n",
              "      <th>day</th>\n",
              "      <th>month</th>\n",
              "      <th>year</th>\n",
              "    </tr>\n",
              "  </thead>\n",
              "  <tbody>\n",
              "    <tr>\n",
              "      <th>jobid</th>\n",
              "      <td>1.000000</td>\n",
              "      <td>-0.041356</td>\n",
              "      <td>-0.010856</td>\n",
              "      <td>-0.009570</td>\n",
              "      <td>0.025795</td>\n",
              "      <td>0.023397</td>\n",
              "      <td>0.024937</td>\n",
              "      <td>-0.008172</td>\n",
              "      <td>0.568167</td>\n",
              "      <td>-0.256826</td>\n",
              "      <td>0.091035</td>\n",
              "    </tr>\n",
              "    <tr>\n",
              "      <th>numberofpositions</th>\n",
              "      <td>-0.041356</td>\n",
              "      <td>1.000000</td>\n",
              "      <td>-0.121553</td>\n",
              "      <td>-0.148161</td>\n",
              "      <td>-0.194685</td>\n",
              "      <td>-0.212955</td>\n",
              "      <td>-0.208745</td>\n",
              "      <td>-0.138778</td>\n",
              "      <td>-0.019797</td>\n",
              "      <td>-0.072022</td>\n",
              "      <td>0.047774</td>\n",
              "    </tr>\n",
              "    <tr>\n",
              "      <th>min_pay</th>\n",
              "      <td>-0.010856</td>\n",
              "      <td>-0.121553</td>\n",
              "      <td>1.000000</td>\n",
              "      <td>0.938850</td>\n",
              "      <td>0.709683</td>\n",
              "      <td>0.677629</td>\n",
              "      <td>0.704354</td>\n",
              "      <td>0.979315</td>\n",
              "      <td>-0.009659</td>\n",
              "      <td>-0.025859</td>\n",
              "      <td>0.057210</td>\n",
              "    </tr>\n",
              "    <tr>\n",
              "      <th>max_pay</th>\n",
              "      <td>-0.009570</td>\n",
              "      <td>-0.148161</td>\n",
              "      <td>0.938850</td>\n",
              "      <td>1.000000</td>\n",
              "      <td>0.612399</td>\n",
              "      <td>0.624441</td>\n",
              "      <td>0.630134</td>\n",
              "      <td>0.989101</td>\n",
              "      <td>-0.005154</td>\n",
              "      <td>-0.002053</td>\n",
              "      <td>0.038748</td>\n",
              "    </tr>\n",
              "    <tr>\n",
              "      <th>min_exp</th>\n",
              "      <td>0.025795</td>\n",
              "      <td>-0.194685</td>\n",
              "      <td>0.709683</td>\n",
              "      <td>0.612399</td>\n",
              "      <td>1.000000</td>\n",
              "      <td>0.922456</td>\n",
              "      <td>0.975517</td>\n",
              "      <td>0.716731</td>\n",
              "      <td>-0.013617</td>\n",
              "      <td>-0.037447</td>\n",
              "      <td>0.094205</td>\n",
              "    </tr>\n",
              "    <tr>\n",
              "      <th>max_exp</th>\n",
              "      <td>0.023397</td>\n",
              "      <td>-0.212955</td>\n",
              "      <td>0.677629</td>\n",
              "      <td>0.624441</td>\n",
              "      <td>0.922456</td>\n",
              "      <td>1.000000</td>\n",
              "      <td>0.984785</td>\n",
              "      <td>0.701668</td>\n",
              "      <td>-0.024664</td>\n",
              "      <td>-0.027442</td>\n",
              "      <td>0.088948</td>\n",
              "    </tr>\n",
              "    <tr>\n",
              "      <th>avg_exp</th>\n",
              "      <td>0.024937</td>\n",
              "      <td>-0.208745</td>\n",
              "      <td>0.704354</td>\n",
              "      <td>0.630134</td>\n",
              "      <td>0.975517</td>\n",
              "      <td>0.984785</td>\n",
              "      <td>1.000000</td>\n",
              "      <td>0.721296</td>\n",
              "      <td>-0.020177</td>\n",
              "      <td>-0.032485</td>\n",
              "      <td>0.093065</td>\n",
              "    </tr>\n",
              "    <tr>\n",
              "      <th>avg_pay</th>\n",
              "      <td>-0.008172</td>\n",
              "      <td>-0.138778</td>\n",
              "      <td>0.979315</td>\n",
              "      <td>0.989101</td>\n",
              "      <td>0.716731</td>\n",
              "      <td>0.701668</td>\n",
              "      <td>0.721296</td>\n",
              "      <td>1.000000</td>\n",
              "      <td>-0.002908</td>\n",
              "      <td>-0.022663</td>\n",
              "      <td>0.059608</td>\n",
              "    </tr>\n",
              "    <tr>\n",
              "      <th>day</th>\n",
              "      <td>0.568167</td>\n",
              "      <td>-0.019797</td>\n",
              "      <td>-0.009659</td>\n",
              "      <td>-0.005154</td>\n",
              "      <td>-0.013617</td>\n",
              "      <td>-0.024664</td>\n",
              "      <td>-0.020177</td>\n",
              "      <td>-0.002908</td>\n",
              "      <td>1.000000</td>\n",
              "      <td>-0.013063</td>\n",
              "      <td>-0.372578</td>\n",
              "    </tr>\n",
              "    <tr>\n",
              "      <th>month</th>\n",
              "      <td>-0.256826</td>\n",
              "      <td>-0.072022</td>\n",
              "      <td>-0.025859</td>\n",
              "      <td>-0.002053</td>\n",
              "      <td>-0.037447</td>\n",
              "      <td>-0.027442</td>\n",
              "      <td>-0.032485</td>\n",
              "      <td>-0.022663</td>\n",
              "      <td>-0.013063</td>\n",
              "      <td>1.000000</td>\n",
              "      <td>-0.598949</td>\n",
              "    </tr>\n",
              "    <tr>\n",
              "      <th>year</th>\n",
              "      <td>0.091035</td>\n",
              "      <td>0.047774</td>\n",
              "      <td>0.057210</td>\n",
              "      <td>0.038748</td>\n",
              "      <td>0.094205</td>\n",
              "      <td>0.088948</td>\n",
              "      <td>0.093065</td>\n",
              "      <td>0.059608</td>\n",
              "      <td>-0.372578</td>\n",
              "      <td>-0.598949</td>\n",
              "      <td>1.000000</td>\n",
              "    </tr>\n",
              "  </tbody>\n",
              "</table>\n",
              "</div>\n",
              "      <button class=\"colab-df-convert\" onclick=\"convertToInteractive('df-2c8b86a7-3443-4b4f-9b0a-fb252e039acc')\"\n",
              "              title=\"Convert this dataframe to an interactive table.\"\n",
              "              style=\"display:none;\">\n",
              "        \n",
              "  <svg xmlns=\"http://www.w3.org/2000/svg\" height=\"24px\"viewBox=\"0 0 24 24\"\n",
              "       width=\"24px\">\n",
              "    <path d=\"M0 0h24v24H0V0z\" fill=\"none\"/>\n",
              "    <path d=\"M18.56 5.44l.94 2.06.94-2.06 2.06-.94-2.06-.94-.94-2.06-.94 2.06-2.06.94zm-11 1L8.5 8.5l.94-2.06 2.06-.94-2.06-.94L8.5 2.5l-.94 2.06-2.06.94zm10 10l.94 2.06.94-2.06 2.06-.94-2.06-.94-.94-2.06-.94 2.06-2.06.94z\"/><path d=\"M17.41 7.96l-1.37-1.37c-.4-.4-.92-.59-1.43-.59-.52 0-1.04.2-1.43.59L10.3 9.45l-7.72 7.72c-.78.78-.78 2.05 0 2.83L4 21.41c.39.39.9.59 1.41.59.51 0 1.02-.2 1.41-.59l7.78-7.78 2.81-2.81c.8-.78.8-2.07 0-2.86zM5.41 20L4 18.59l7.72-7.72 1.47 1.35L5.41 20z\"/>\n",
              "  </svg>\n",
              "      </button>\n",
              "      \n",
              "  <style>\n",
              "    .colab-df-container {\n",
              "      display:flex;\n",
              "      flex-wrap:wrap;\n",
              "      gap: 12px;\n",
              "    }\n",
              "\n",
              "    .colab-df-convert {\n",
              "      background-color: #E8F0FE;\n",
              "      border: none;\n",
              "      border-radius: 50%;\n",
              "      cursor: pointer;\n",
              "      display: none;\n",
              "      fill: #1967D2;\n",
              "      height: 32px;\n",
              "      padding: 0 0 0 0;\n",
              "      width: 32px;\n",
              "    }\n",
              "\n",
              "    .colab-df-convert:hover {\n",
              "      background-color: #E2EBFA;\n",
              "      box-shadow: 0px 1px 2px rgba(60, 64, 67, 0.3), 0px 1px 3px 1px rgba(60, 64, 67, 0.15);\n",
              "      fill: #174EA6;\n",
              "    }\n",
              "\n",
              "    [theme=dark] .colab-df-convert {\n",
              "      background-color: #3B4455;\n",
              "      fill: #D2E3FC;\n",
              "    }\n",
              "\n",
              "    [theme=dark] .colab-df-convert:hover {\n",
              "      background-color: #434B5C;\n",
              "      box-shadow: 0px 1px 3px 1px rgba(0, 0, 0, 0.15);\n",
              "      filter: drop-shadow(0px 1px 2px rgba(0, 0, 0, 0.3));\n",
              "      fill: #FFFFFF;\n",
              "    }\n",
              "  </style>\n",
              "\n",
              "      <script>\n",
              "        const buttonEl =\n",
              "          document.querySelector('#df-2c8b86a7-3443-4b4f-9b0a-fb252e039acc button.colab-df-convert');\n",
              "        buttonEl.style.display =\n",
              "          google.colab.kernel.accessAllowed ? 'block' : 'none';\n",
              "\n",
              "        async function convertToInteractive(key) {\n",
              "          const element = document.querySelector('#df-2c8b86a7-3443-4b4f-9b0a-fb252e039acc');\n",
              "          const dataTable =\n",
              "            await google.colab.kernel.invokeFunction('convertToInteractive',\n",
              "                                                     [key], {});\n",
              "          if (!dataTable) return;\n",
              "\n",
              "          const docLinkHtml = 'Like what you see? Visit the ' +\n",
              "            '<a target=\"_blank\" href=https://colab.research.google.com/notebooks/data_table.ipynb>data table notebook</a>'\n",
              "            + ' to learn more about interactive tables.';\n",
              "          element.innerHTML = '';\n",
              "          dataTable['output_type'] = 'display_data';\n",
              "          await google.colab.output.renderOutput(dataTable, element);\n",
              "          const docLink = document.createElement('div');\n",
              "          docLink.innerHTML = docLinkHtml;\n",
              "          element.appendChild(docLink);\n",
              "        }\n",
              "      </script>\n",
              "    </div>\n",
              "  </div>\n",
              "  "
            ],
            "text/plain": [
              "                      jobid  numberofpositions  ...     month      year\n",
              "jobid              1.000000          -0.041356  ... -0.256826  0.091035\n",
              "numberofpositions -0.041356           1.000000  ... -0.072022  0.047774\n",
              "min_pay           -0.010856          -0.121553  ... -0.025859  0.057210\n",
              "max_pay           -0.009570          -0.148161  ... -0.002053  0.038748\n",
              "min_exp            0.025795          -0.194685  ... -0.037447  0.094205\n",
              "max_exp            0.023397          -0.212955  ... -0.027442  0.088948\n",
              "avg_exp            0.024937          -0.208745  ... -0.032485  0.093065\n",
              "avg_pay           -0.008172          -0.138778  ... -0.022663  0.059608\n",
              "day                0.568167          -0.019797  ... -0.013063 -0.372578\n",
              "month             -0.256826          -0.072022  ...  1.000000 -0.598949\n",
              "year               0.091035           0.047774  ... -0.598949  1.000000\n",
              "\n",
              "[11 rows x 11 columns]"
            ]
          },
          "metadata": {},
          "execution_count": 13
        }
      ]
    },
    {
      "cell_type": "code",
      "source": [
        " plt.figure(figsize=(12,6))\n",
        " sns.heatmap(df.corr(),annot=True)\n",
        " plt.title('Heatmap of Job Market Analysis of India')"
      ],
      "metadata": {
        "colab": {
          "base_uri": "https://localhost:8080/",
          "height": 490
        },
        "id": "bYswbwo39VPS",
        "outputId": "0b2dc86c-336f-4532-aa23-9315ee7e283c"
      },
      "execution_count": null,
      "outputs": [
        {
          "output_type": "execute_result",
          "data": {
            "text/plain": [
              "Text(0.5, 1.0, 'Heatmap of Job Market Analysis of India')"
            ]
          },
          "metadata": {},
          "execution_count": 14
        },
        {
          "output_type": "display_data",
          "data": {
            "image/png": "[encoded data removed]",
            "text/plain": [
              "<Figure size 864x432 with 2 Axes>"
            ]
          },
          "metadata": {
            "needs_background": "light"
          }
        }
      ]
    },
    {
      "cell_type": "markdown",
      "source": [
        "**Observation \n",
        "The lighter the color more the correlation, the brighter the color the lesser correlation\n",
        "1. As we can see the min payrate increases their is a probability that max pay rate also increases i.e by 94%\n",
        "2. Similarly if min exp increases their is 70% probability that min pay will also increase **\n"
      ],
      "metadata": {
        "id": "fYsWooW3_1oP"
      }
    },
    {
      "cell_type": "code",
      "source": [
        " df.corr()['min_pay']"
      ],
      "metadata": {
        "colab": {
          "base_uri": "https://localhost:8080/"
        },
        "id": "3PXCFGmB9_jW",
        "outputId": "1dc14869-8cbc-4c08-9165-c8b2ddd3be76"
      },
      "execution_count": null,
      "outputs": [
        {
          "output_type": "execute_result",
          "data": {
            "text/plain": [
              "jobid               -0.010856\n",
              "numberofpositions   -0.121553\n",
              "min_pay              1.000000\n",
              "max_pay              0.938850\n",
              "min_exp              0.709683\n",
              "max_exp              0.677629\n",
              "avg_exp              0.704354\n",
              "avg_pay              0.979315\n",
              "day                 -0.009659\n",
              "month               -0.025859\n",
              "year                 0.057210\n",
              "Name: min_pay, dtype: float64"
            ]
          },
          "metadata": {},
          "execution_count": 15
        }
      ]
    },
    {
      "cell_type": "markdown",
      "source": [
        "**Observation--\n",
        "As we can see their is 93% probability if min pay increases max pay also increases**"
      ],
      "metadata": {
        "id": "1qWAG1YFBEzc"
      }
    },
    {
      "cell_type": "code",
      "source": [
        "# Now we will analyse the data i.e, No of job position in each company\n",
        "\n",
        "data=df.copy()"
      ],
      "metadata": {
        "id": "o6nf4xfmBBve"
      },
      "execution_count": null,
      "outputs": []
    },
    {
      "cell_type": "code",
      "source": [
        "data.columns"
      ],
      "metadata": {
        "colab": {
          "base_uri": "https://localhost:8080/"
        },
        "id": "sRz0J6Y_G9kM",
        "outputId": "d8039f3d-b318-47b4-c207-37c9949704e5"
      },
      "execution_count": null,
      "outputs": [
        {
          "output_type": "execute_result",
          "data": {
            "text/plain": [
              "Index(['company', 'education', 'industry', 'jobdescription', 'jobid',\n",
              "       'joblocation_address', 'jobtitle', 'numberofpositions', 'site_name',\n",
              "       'skills', 'min_pay', 'max_pay', 'min_exp', 'max_exp', 'avg_exp',\n",
              "       'avg_pay', 'day', 'month', 'year'],\n",
              "      dtype='object')"
            ]
          },
          "metadata": {},
          "execution_count": 17
        }
      ]
    },
    {
      "cell_type": "code",
      "source": [
        "data['company']"
      ],
      "metadata": {
        "colab": {
          "base_uri": "https://localhost:8080/"
        },
        "id": "xCdHPTZwG_Ws",
        "outputId": "e38897df-3ec3-475b-c745-e1a6b26935a2"
      },
      "execution_count": null,
      "outputs": [
        {
          "output_type": "execute_result",
          "data": {
            "text/plain": [
              "0                                        MM Media Pvt Ltd\n",
              "1                                      find live infotech\n",
              "2                     Softtech Career Infosystem Pvt. Ltd\n",
              "3                                  Onboard HRServices LLP\n",
              "4              Spire Technologies and Solutions Pvt. Ltd.\n",
              "                               ...                       \n",
              "21995         Morgan Stanley Advantage Services Pvt. Ltd.\n",
              "21996    Careernet Technologies Pvt Ltd hiring for Client\n",
              "21997                                      Musk - Startup\n",
              "21998                                        Confidential\n",
              "21999                     Cambio Consulting India Pvt Ltd\n",
              "Name: company, Length: 22000, dtype: object"
            ]
          },
          "metadata": {},
          "execution_count": 18
        }
      ]
    },
    {
      "cell_type": "code",
      "source": [
        "comp=data['company'].value_counts().reset_index()\n",
        "comp"
      ],
      "metadata": {
        "colab": {
          "base_uri": "https://localhost:8080/",
          "height": 424
        },
        "id": "JmKBoudoHEV-",
        "outputId": "366f1b89-3b9b-4c7c-95b6-02087061cd80"
      },
      "execution_count": null,
      "outputs": [
        {
          "output_type": "execute_result",
          "data": {
            "text/html": [
              "\n",
              "  <div id=\"df-bfd5c93c-06ee-4364-9614-2b244eb3ee3f\">\n",
              "    <div class=\"colab-df-container\">\n",
              "      <div>\n",
              "<style scoped>\n",
              "    .dataframe tbody tr th:only-of-type {\n",
              "        vertical-align: middle;\n",
              "    }\n",
              "\n",
              "    .dataframe tbody tr th {\n",
              "        vertical-align: top;\n",
              "    }\n",
              "\n",
              "    .dataframe thead th {\n",
              "        text-align: right;\n",
              "    }\n",
              "</style>\n",
              "<table border=\"1\" class=\"dataframe\">\n",
              "  <thead>\n",
              "    <tr style=\"text-align: right;\">\n",
              "      <th></th>\n",
              "      <th>index</th>\n",
              "      <th>company</th>\n",
              "    </tr>\n",
              "  </thead>\n",
              "  <tbody>\n",
              "    <tr>\n",
              "      <th>0</th>\n",
              "      <td>Indian Institute of Technology Bombay</td>\n",
              "      <td>403</td>\n",
              "    </tr>\n",
              "    <tr>\n",
              "      <th>1</th>\n",
              "      <td>Confidential</td>\n",
              "      <td>393</td>\n",
              "    </tr>\n",
              "    <tr>\n",
              "      <th>2</th>\n",
              "      <td>National Institute of Industrial Engineering</td>\n",
              "      <td>185</td>\n",
              "    </tr>\n",
              "    <tr>\n",
              "      <th>3</th>\n",
              "      <td>Oracle India Pvt. Ltd.</td>\n",
              "      <td>151</td>\n",
              "    </tr>\n",
              "    <tr>\n",
              "      <th>4</th>\n",
              "      <td>JPMorgan Chase</td>\n",
              "      <td>135</td>\n",
              "    </tr>\n",
              "    <tr>\n",
              "      <th>...</th>\n",
              "      <td>...</td>\n",
              "      <td>...</td>\n",
              "    </tr>\n",
              "    <tr>\n",
              "      <th>8464</th>\n",
              "      <td>Bello Jewels Pvt Ltd</td>\n",
              "      <td>1</td>\n",
              "    </tr>\n",
              "    <tr>\n",
              "      <th>8465</th>\n",
              "      <td>ITG Telematics Pvt Ltd</td>\n",
              "      <td>1</td>\n",
              "    </tr>\n",
              "    <tr>\n",
              "      <th>8466</th>\n",
              "      <td>Genuine Management Services Pvt. Limited hirin...</td>\n",
              "      <td>1</td>\n",
              "    </tr>\n",
              "    <tr>\n",
              "      <th>8467</th>\n",
              "      <td>AJAX Consulting hiring for a large Japanese MNC</td>\n",
              "      <td>1</td>\n",
              "    </tr>\n",
              "    <tr>\n",
              "      <th>8468</th>\n",
              "      <td>Musk - Startup</td>\n",
              "      <td>1</td>\n",
              "    </tr>\n",
              "  </tbody>\n",
              "</table>\n",
              "<p>8469 rows × 2 columns</p>\n",
              "</div>\n",
              "      <button class=\"colab-df-convert\" onclick=\"convertToInteractive('df-bfd5c93c-06ee-4364-9614-2b244eb3ee3f')\"\n",
              "              title=\"Convert this dataframe to an interactive table.\"\n",
              "              style=\"display:none;\">\n",
              "        \n",
              "  <svg xmlns=\"http://www.w3.org/2000/svg\" height=\"24px\"viewBox=\"0 0 24 24\"\n",
              "       width=\"24px\">\n",
              "    <path d=\"M0 0h24v24H0V0z\" fill=\"none\"/>\n",
              "    <path d=\"M18.56 5.44l.94 2.06.94-2.06 2.06-.94-2.06-.94-.94-2.06-.94 2.06-2.06.94zm-11 1L8.5 8.5l.94-2.06 2.06-.94-2.06-.94L8.5 2.5l-.94 2.06-2.06.94zm10 10l.94 2.06.94-2.06 2.06-.94-2.06-.94-.94-2.06-.94 2.06-2.06.94z\"/><path d=\"M17.41 7.96l-1.37-1.37c-.4-.4-.92-.59-1.43-.59-.52 0-1.04.2-1.43.59L10.3 9.45l-7.72 7.72c-.78.78-.78 2.05 0 2.83L4 21.41c.39.39.9.59 1.41.59.51 0 1.02-.2 1.41-.59l7.78-7.78 2.81-2.81c.8-.78.8-2.07 0-2.86zM5.41 20L4 18.59l7.72-7.72 1.47 1.35L5.41 20z\"/>\n",
              "  </svg>\n",
              "      </button>\n",
              "      \n",
              "  <style>\n",
              "    .colab-df-container {\n",
              "      display:flex;\n",
              "      flex-wrap:wrap;\n",
              "      gap: 12px;\n",
              "    }\n",
              "\n",
              "    .colab-df-convert {\n",
              "      background-color: #E8F0FE;\n",
              "      border: none;\n",
              "      border-radius: 50%;\n",
              "      cursor: pointer;\n",
              "      display: none;\n",
              "      fill: #1967D2;\n",
              "      height: 32px;\n",
              "      padding: 0 0 0 0;\n",
              "      width: 32px;\n",
              "    }\n",
              "\n",
              "    .colab-df-convert:hover {\n",
              "      background-color: #E2EBFA;\n",
              "      box-shadow: 0px 1px 2px rgba(60, 64, 67, 0.3), 0px 1px 3px 1px rgba(60, 64, 67, 0.15);\n",
              "      fill: #174EA6;\n",
              "    }\n",
              "\n",
              "    [theme=dark] .colab-df-convert {\n",
              "      background-color: #3B4455;\n",
              "      fill: #D2E3FC;\n",
              "    }\n",
              "\n",
              "    [theme=dark] .colab-df-convert:hover {\n",
              "      background-color: #434B5C;\n",
              "      box-shadow: 0px 1px 3px 1px rgba(0, 0, 0, 0.15);\n",
              "      filter: drop-shadow(0px 1px 2px rgba(0, 0, 0, 0.3));\n",
              "      fill: #FFFFFF;\n",
              "    }\n",
              "  </style>\n",
              "\n",
              "      <script>\n",
              "        const buttonEl =\n",
              "          document.querySelector('#df-bfd5c93c-06ee-4364-9614-2b244eb3ee3f button.colab-df-convert');\n",
              "        buttonEl.style.display =\n",
              "          google.colab.kernel.accessAllowed ? 'block' : 'none';\n",
              "\n",
              "        async function convertToInteractive(key) {\n",
              "          const element = document.querySelector('#df-bfd5c93c-06ee-4364-9614-2b244eb3ee3f');\n",
              "          const dataTable =\n",
              "            await google.colab.kernel.invokeFunction('convertToInteractive',\n",
              "                                                     [key], {});\n",
              "          if (!dataTable) return;\n",
              "\n",
              "          const docLinkHtml = 'Like what you see? Visit the ' +\n",
              "            '<a target=\"_blank\" href=https://colab.research.google.com/notebooks/data_table.ipynb>data table notebook</a>'\n",
              "            + ' to learn more about interactive tables.';\n",
              "          element.innerHTML = '';\n",
              "          dataTable['output_type'] = 'display_data';\n",
              "          await google.colab.output.renderOutput(dataTable, element);\n",
              "          const docLink = document.createElement('div');\n",
              "          docLink.innerHTML = docLinkHtml;\n",
              "          element.appendChild(docLink);\n",
              "        }\n",
              "      </script>\n",
              "    </div>\n",
              "  </div>\n",
              "  "
            ],
            "text/plain": [
              "                                                  index  company\n",
              "0                 Indian Institute of Technology Bombay      403\n",
              "1                                          Confidential      393\n",
              "2          National Institute of Industrial Engineering      185\n",
              "3                                Oracle India Pvt. Ltd.      151\n",
              "4                                        JPMorgan Chase      135\n",
              "...                                                 ...      ...\n",
              "8464                               Bello Jewels Pvt Ltd        1\n",
              "8465                             ITG Telematics Pvt Ltd        1\n",
              "8466  Genuine Management Services Pvt. Limited hirin...        1\n",
              "8467    AJAX Consulting hiring for a large Japanese MNC        1\n",
              "8468                                     Musk - Startup        1\n",
              "\n",
              "[8469 rows x 2 columns]"
            ]
          },
          "metadata": {},
          "execution_count": 19
        }
      ]
    },
    {
      "cell_type": "code",
      "source": [
        "comp.columns=['company','Number of Jobs']"
      ],
      "metadata": {
        "id": "Mj3PR4cRHJrn"
      },
      "execution_count": null,
      "outputs": []
    },
    {
      "cell_type": "code",
      "source": [
        "# Top 10 companies with max no of job vacancy\n",
        "comp[0:10]"
      ],
      "metadata": {
        "colab": {
          "base_uri": "https://localhost:8080/",
          "height": 363
        },
        "id": "mdO35zXqHhLm",
        "outputId": "a3fb47c2-cb05-4808-803d-044684372efe"
      },
      "execution_count": null,
      "outputs": [
        {
          "output_type": "execute_result",
          "data": {
            "text/html": [
              "\n",
              "  <div id=\"df-b5dac2c3-9882-474b-a0f9-089c284725a8\">\n",
              "    <div class=\"colab-df-container\">\n",
              "      <div>\n",
              "<style scoped>\n",
              "    .dataframe tbody tr th:only-of-type {\n",
              "        vertical-align: middle;\n",
              "    }\n",
              "\n",
              "    .dataframe tbody tr th {\n",
              "        vertical-align: top;\n",
              "    }\n",
              "\n",
              "    .dataframe thead th {\n",
              "        text-align: right;\n",
              "    }\n",
              "</style>\n",
              "<table border=\"1\" class=\"dataframe\">\n",
              "  <thead>\n",
              "    <tr style=\"text-align: right;\">\n",
              "      <th></th>\n",
              "      <th>company</th>\n",
              "      <th>Number of Jobs</th>\n",
              "    </tr>\n",
              "  </thead>\n",
              "  <tbody>\n",
              "    <tr>\n",
              "      <th>0</th>\n",
              "      <td>Indian Institute of Technology Bombay</td>\n",
              "      <td>403</td>\n",
              "    </tr>\n",
              "    <tr>\n",
              "      <th>1</th>\n",
              "      <td>Confidential</td>\n",
              "      <td>393</td>\n",
              "    </tr>\n",
              "    <tr>\n",
              "      <th>2</th>\n",
              "      <td>National Institute of Industrial Engineering</td>\n",
              "      <td>185</td>\n",
              "    </tr>\n",
              "    <tr>\n",
              "      <th>3</th>\n",
              "      <td>Oracle India Pvt. Ltd.</td>\n",
              "      <td>151</td>\n",
              "    </tr>\n",
              "    <tr>\n",
              "      <th>4</th>\n",
              "      <td>JPMorgan Chase</td>\n",
              "      <td>135</td>\n",
              "    </tr>\n",
              "    <tr>\n",
              "      <th>5</th>\n",
              "      <td>Godrej Industries Ltd</td>\n",
              "      <td>125</td>\n",
              "    </tr>\n",
              "    <tr>\n",
              "      <th>6</th>\n",
              "      <td>Unitforce technologies Pvt. Ltd.</td>\n",
              "      <td>100</td>\n",
              "    </tr>\n",
              "    <tr>\n",
              "      <th>7</th>\n",
              "      <td>Capgemini</td>\n",
              "      <td>98</td>\n",
              "    </tr>\n",
              "    <tr>\n",
              "      <th>8</th>\n",
              "      <td>HCL Technologies</td>\n",
              "      <td>95</td>\n",
              "    </tr>\n",
              "    <tr>\n",
              "      <th>9</th>\n",
              "      <td>Axis Jobs</td>\n",
              "      <td>92</td>\n",
              "    </tr>\n",
              "  </tbody>\n",
              "</table>\n",
              "</div>\n",
              "      <button class=\"colab-df-convert\" onclick=\"convertToInteractive('df-b5dac2c3-9882-474b-a0f9-089c284725a8')\"\n",
              "              title=\"Convert this dataframe to an interactive table.\"\n",
              "              style=\"display:none;\">\n",
              "        \n",
              "  <svg xmlns=\"http://www.w3.org/2000/svg\" height=\"24px\"viewBox=\"0 0 24 24\"\n",
              "       width=\"24px\">\n",
              "    <path d=\"M0 0h24v24H0V0z\" fill=\"none\"/>\n",
              "    <path d=\"M18.56 5.44l.94 2.06.94-2.06 2.06-.94-2.06-.94-.94-2.06-.94 2.06-2.06.94zm-11 1L8.5 8.5l.94-2.06 2.06-.94-2.06-.94L8.5 2.5l-.94 2.06-2.06.94zm10 10l.94 2.06.94-2.06 2.06-.94-2.06-.94-.94-2.06-.94 2.06-2.06.94z\"/><path d=\"M17.41 7.96l-1.37-1.37c-.4-.4-.92-.59-1.43-.59-.52 0-1.04.2-1.43.59L10.3 9.45l-7.72 7.72c-.78.78-.78 2.05 0 2.83L4 21.41c.39.39.9.59 1.41.59.51 0 1.02-.2 1.41-.59l7.78-7.78 2.81-2.81c.8-.78.8-2.07 0-2.86zM5.41 20L4 18.59l7.72-7.72 1.47 1.35L5.41 20z\"/>\n",
              "  </svg>\n",
              "      </button>\n",
              "      \n",
              "  <style>\n",
              "    .colab-df-container {\n",
              "      display:flex;\n",
              "      flex-wrap:wrap;\n",
              "      gap: 12px;\n",
              "    }\n",
              "\n",
              "    .colab-df-convert {\n",
              "      background-color: #E8F0FE;\n",
              "      border: none;\n",
              "      border-radius: 50%;\n",
              "      cursor: pointer;\n",
              "      display: none;\n",
              "      fill: #1967D2;\n",
              "      height: 32px;\n",
              "      padding: 0 0 0 0;\n",
              "      width: 32px;\n",
              "    }\n",
              "\n",
              "    .colab-df-convert:hover {\n",
              "      background-color: #E2EBFA;\n",
              "      box-shadow: 0px 1px 2px rgba(60, 64, 67, 0.3), 0px 1px 3px 1px rgba(60, 64, 67, 0.15);\n",
              "      fill: #174EA6;\n",
              "    }\n",
              "\n",
              "    [theme=dark] .colab-df-convert {\n",
              "      background-color: #3B4455;\n",
              "      fill: #D2E3FC;\n",
              "    }\n",
              "\n",
              "    [theme=dark] .colab-df-convert:hover {\n",
              "      background-color: #434B5C;\n",
              "      box-shadow: 0px 1px 3px 1px rgba(0, 0, 0, 0.15);\n",
              "      filter: drop-shadow(0px 1px 2px rgba(0, 0, 0, 0.3));\n",
              "      fill: #FFFFFF;\n",
              "    }\n",
              "  </style>\n",
              "\n",
              "      <script>\n",
              "        const buttonEl =\n",
              "          document.querySelector('#df-b5dac2c3-9882-474b-a0f9-089c284725a8 button.colab-df-convert');\n",
              "        buttonEl.style.display =\n",
              "          google.colab.kernel.accessAllowed ? 'block' : 'none';\n",
              "\n",
              "        async function convertToInteractive(key) {\n",
              "          const element = document.querySelector('#df-b5dac2c3-9882-474b-a0f9-089c284725a8');\n",
              "          const dataTable =\n",
              "            await google.colab.kernel.invokeFunction('convertToInteractive',\n",
              "                                                     [key], {});\n",
              "          if (!dataTable) return;\n",
              "\n",
              "          const docLinkHtml = 'Like what you see? Visit the ' +\n",
              "            '<a target=\"_blank\" href=https://colab.research.google.com/notebooks/data_table.ipynb>data table notebook</a>'\n",
              "            + ' to learn more about interactive tables.';\n",
              "          element.innerHTML = '';\n",
              "          dataTable['output_type'] = 'display_data';\n",
              "          await google.colab.output.renderOutput(dataTable, element);\n",
              "          const docLink = document.createElement('div');\n",
              "          docLink.innerHTML = docLinkHtml;\n",
              "          element.appendChild(docLink);\n",
              "        }\n",
              "      </script>\n",
              "    </div>\n",
              "  </div>\n",
              "  "
            ],
            "text/plain": [
              "                                        company  Number of Jobs\n",
              "0         Indian Institute of Technology Bombay             403\n",
              "1                                  Confidential             393\n",
              "2  National Institute of Industrial Engineering             185\n",
              "3                        Oracle India Pvt. Ltd.             151\n",
              "4                                JPMorgan Chase             135\n",
              "5                         Godrej Industries Ltd             125\n",
              "6              Unitforce technologies Pvt. Ltd.             100\n",
              "7                                     Capgemini              98\n",
              "8                              HCL Technologies              95\n",
              "9                                     Axis Jobs              92"
            ]
          },
          "metadata": {},
          "execution_count": 21
        }
      ]
    },
    {
      "cell_type": "code",
      "source": [
        " #Plot bar chart on the basis of X axis=companyname and Y axis=vacancy\n",
        "\n",
        " plt.bar(comp['company'][0:10],comp['Number of Jobs'][0:10],color='orange')\n",
        " plt.xticks(rotation='vertical')\n",
        " plt.title('Top 10 company with max no of job posting')"
      ],
      "metadata": {
        "colab": {
          "base_uri": "https://localhost:8080/",
          "height": 501
        },
        "id": "JPtY2AUgHm5_",
        "outputId": "eb34ccd4-2314-4d0a-9599-370b2c20ae8b"
      },
      "execution_count": null,
      "outputs": [
        {
          "output_type": "execute_result",
          "data": {
            "text/plain": [
              "Text(0.5, 1.0, 'Top 10 company with max no of job posting')"
            ]
          },
          "metadata": {},
          "execution_count": 22
        },
        {
          "output_type": "display_data",
          "data": {
            "image/png": "[encoded data removed]",
            "text/plain": [
              "<Figure size 432x288 with 1 Axes>"
            ]
          },
          "metadata": {
            "needs_background": "light"
          }
        }
      ]
    },
    {
      "cell_type": "code",
      "source": [
        "#Now we will create a piechart\n",
        "plt.figure(figsize=(12,6))\n",
        "plt.pie(labels=comp['company'][0:10],x=comp['Number of Jobs'][0:10])\n",
        "plt.xticks(rotation='vertical')"
      ],
      "metadata": {
        "colab": {
          "base_uri": "https://localhost:8080/",
          "height": 374
        },
        "id": "7N1muKkWItmL",
        "outputId": "df19511f-4a34-4779-90a1-a1cdc6bf7009"
      },
      "execution_count": null,
      "outputs": [
        {
          "output_type": "execute_result",
          "data": {
            "text/plain": [
              "(array([], dtype=float64), <a list of 0 Text major ticklabel objects>)"
            ]
          },
          "metadata": {},
          "execution_count": 23
        },
        {
          "output_type": "display_data",
          "data": {
            "image/png": "[encoded data removed]",
            "text/plain": [
              "<Figure size 864x432 with 1 Axes>"
            ]
          },
          "metadata": {}
        }
      ]
    },
    {
      "cell_type": "code",
      "source": [
        "# Now we will automate the data where we can easily see different graph in single click\n",
        "\n",
        "# We have to define the function to avoid the repetation \n",
        "\n",
        "# This will return us plots depending upon what chart we want\n",
        "  # Parameters------------\n",
        "  # data= dataframe\n",
        "  # feature:column_name that we have to consider for analysis\n",
        "  # col1: First column name that u want to assign for new df\n",
        "  # col2: Second column name that u want to assign for new df\n",
        "  # chart==1 then bar chart\n",
        "  # char==2 then pie chart\n",
        "\n",
        "def perform_analysis(data,feature,col1,col2,chart=1):\n",
        "  dataframe=data[feature].value_counts().reset_index()\n",
        "  dataframe.columns=[col1,col2]\n",
        "\n",
        "  print(dataframe.head(5))\n",
        "\n",
        "  if chart==1:\n",
        "    plt.bar(dataframe[col1][0:10],dataframe[col2][0:10],color='lightgreen')\n",
        "    plt.xticks(rotation='vertical')\n",
        "    plt.figure(figsize=(12,6))\n",
        "  \n",
        "  elif(chart==2):\n",
        "    plt.pie(labels=dataframe[col1][0:10],x=dataframe[col2][0:10])\n",
        "    plt.figure(figsize=(12,6))\n",
        "    \n"
      ],
      "metadata": {
        "id": "nyEGQ8QRLRT6"
      },
      "execution_count": null,
      "outputs": []
    },
    {
      "cell_type": "code",
      "source": [
        "print(perform_analysis.__doc__)"
      ],
      "metadata": {
        "colab": {
          "base_uri": "https://localhost:8080/"
        },
        "id": "nCHpb5w1ygpA",
        "outputId": "02d71ca9-6404-493c-e926-cd1f42d41f4a"
      },
      "execution_count": null,
      "outputs": [
        {
          "output_type": "stream",
          "name": "stdout",
          "text": [
            "None\n"
          ]
        }
      ]
    },
    {
      "cell_type": "code",
      "source": [
        "perform_analysis(data,'company','company','Number of Jobs')"
      ],
      "metadata": {
        "colab": {
          "base_uri": "https://localhost:8080/",
          "height": 590
        },
        "id": "songb9A_RlyI",
        "outputId": "5586cec5-81af-42a7-bd85-91f8e082e7ea"
      },
      "execution_count": null,
      "outputs": [
        {
          "output_type": "stream",
          "name": "stdout",
          "text": [
            "                                        company  Number of Jobs\n",
            "0         Indian Institute of Technology Bombay             403\n",
            "1                                  Confidential             393\n",
            "2  National Institute of Industrial Engineering             185\n",
            "3                        Oracle India Pvt. Ltd.             151\n",
            "4                                JPMorgan Chase             135\n"
          ]
        },
        {
          "output_type": "display_data",
          "data": {
            "image/png": "[encoded data removed]",
            "text/plain": [
              "<Figure size 432x288 with 1 Axes>"
            ]
          },
          "metadata": {
            "needs_background": "light"
          }
        },
        {
          "output_type": "display_data",
          "data": {
            "text/plain": [
              "<Figure size 864x432 with 0 Axes>"
            ]
          },
          "metadata": {}
        }
      ]
    },
    {
      "cell_type": "code",
      "source": [
        "perform_analysis(data,'company','company','Number of Jobs',2)"
      ],
      "metadata": {
        "colab": {
          "base_uri": "https://localhost:8080/",
          "height": 370
        },
        "id": "CohIjSs7R6tK",
        "outputId": "88a04a75-bf67-46bb-9624-490587b6b4c8"
      },
      "execution_count": null,
      "outputs": [
        {
          "output_type": "stream",
          "name": "stdout",
          "text": [
            "                                        company  Number of Jobs\n",
            "0         Indian Institute of Technology Bombay             403\n",
            "1                                  Confidential             393\n",
            "2  National Institute of Industrial Engineering             185\n",
            "3                        Oracle India Pvt. Ltd.             151\n",
            "4                                JPMorgan Chase             135\n"
          ]
        },
        {
          "output_type": "display_data",
          "data": {
            "image/png": "[encoded data removed]",
            "text/plain": [
              "<Figure size 432x288 with 1 Axes>"
            ]
          },
          "metadata": {}
        },
        {
          "output_type": "display_data",
          "data": {
            "text/plain": [
              "<Figure size 864x432 with 0 Axes>"
            ]
          },
          "metadata": {}
        }
      ]
    },
    {
      "cell_type": "code",
      "source": [
        "# How to make your code more readable- vedio- 16\n",
        "#print(pd.read_csv.__doc__)"
      ],
      "metadata": {
        "id": "GTJiyvxbSoVK"
      },
      "execution_count": null,
      "outputs": []
    },
    {
      "cell_type": "code",
      "source": [
        "# Perform Industry based analysis\n",
        "# Job title Analysis\n",
        "# Skills analysis\n",
        "# Job location Analysis \n",
        "\n",
        "data.columns"
      ],
      "metadata": {
        "colab": {
          "base_uri": "https://localhost:8080/"
        },
        "id": "A6WinA9QukWC",
        "outputId": "07a72a25-5078-428e-a92a-f90ff14b1573"
      },
      "execution_count": null,
      "outputs": [
        {
          "output_type": "execute_result",
          "data": {
            "text/plain": [
              "Index(['company', 'education', 'industry', 'jobdescription', 'jobid',\n",
              "       'joblocation_address', 'jobtitle', 'numberofpositions', 'site_name',\n",
              "       'skills', 'min_pay', 'max_pay', 'min_exp', 'max_exp', 'avg_exp',\n",
              "       'avg_pay', 'day', 'month', 'year'],\n",
              "      dtype='object')"
            ]
          },
          "metadata": {},
          "execution_count": 40
        }
      ]
    },
    {
      "cell_type": "code",
      "source": [
        "# Industry and No of Jobs analysis\n",
        "perform_analysis(data,'industry','industries','No of jobs')"
      ],
      "metadata": {
        "colab": {
          "base_uri": "https://localhost:8080/",
          "height": 612
        },
        "id": "6a0xhRTo_fib",
        "outputId": "eb0855fb-48a4-4373-b534-97aa195b078a"
      },
      "execution_count": null,
      "outputs": [
        {
          "output_type": "stream",
          "name": "stdout",
          "text": [
            "                               industries  No of jobs\n",
            "0         IT-Software / Software Services        9216\n",
            "1         Education / Teaching / Training        1322\n",
            "2                BPO / Call Centre / ITES        1254\n",
            "3  Banking / Financial Services / Broking        1238\n",
            "4                  Recruitment / Staffing        1129\n"
          ]
        },
        {
          "output_type": "display_data",
          "data": {
            "image/png": "[encoded data removed]",
            "text/plain": [
              "<Figure size 432x288 with 1 Axes>"
            ]
          },
          "metadata": {
            "needs_background": "light"
          }
        },
        {
          "output_type": "display_data",
          "data": {
            "text/plain": [
              "<Figure size 864x432 with 0 Axes>"
            ]
          },
          "metadata": {}
        }
      ]
    },
    {
      "cell_type": "code",
      "source": [
        "perform_analysis(data,'industry','industries','No of jobs',2)"
      ],
      "metadata": {
        "colab": {
          "base_uri": "https://localhost:8080/",
          "height": 370
        },
        "id": "8Kr0mawc_vNz",
        "outputId": "8f8b0406-0af4-403e-8508-5d2bf0ea8fac"
      },
      "execution_count": null,
      "outputs": [
        {
          "output_type": "stream",
          "name": "stdout",
          "text": [
            "                               industries  No of jobs\n",
            "0         IT-Software / Software Services        9216\n",
            "1         Education / Teaching / Training        1322\n",
            "2                BPO / Call Centre / ITES        1254\n",
            "3  Banking / Financial Services / Broking        1238\n",
            "4                  Recruitment / Staffing        1129\n"
          ]
        },
        {
          "output_type": "display_data",
          "data": {
            "image/png": "[encoded data removed]",
            "text/plain": [
              "<Figure size 432x288 with 1 Axes>"
            ]
          },
          "metadata": {}
        },
        {
          "output_type": "display_data",
          "data": {
            "text/plain": [
              "<Figure size 864x432 with 0 Axes>"
            ]
          },
          "metadata": {}
        }
      ]
    },
    {
      "cell_type": "code",
      "source": [
        "perform_analysis(data,'jobtitle','Jobtitle','No of jobs',2)"
      ],
      "metadata": {
        "colab": {
          "base_uri": "https://localhost:8080/",
          "height": 370
        },
        "id": "ofgR42XW_15s",
        "outputId": "0b013be0-f788-4882-9cf0-285f20b59616"
      },
      "execution_count": null,
      "outputs": [
        {
          "output_type": "stream",
          "name": "stdout",
          "text": [
            "                         Jobtitle  No of jobs\n",
            "0  Business Development Executive          93\n",
            "1    Business Development Manager          92\n",
            "2               Software Engineer          81\n",
            "3                 Project Manager          67\n",
            "4               Android Developer          65\n"
          ]
        },
        {
          "output_type": "display_data",
          "data": {
            "image/png": "[encoded data removed]",
            "text/plain": [
              "<Figure size 432x288 with 1 Axes>"
            ]
          },
          "metadata": {}
        },
        {
          "output_type": "display_data",
          "data": {
            "text/plain": [
              "<Figure size 864x432 with 0 Axes>"
            ]
          },
          "metadata": {}
        }
      ]
    },
    {
      "cell_type": "code",
      "source": [
        "# Skills and its count\n",
        "perform_analysis(data,'skills','Skills','Counts')"
      ],
      "metadata": {
        "colab": {
          "base_uri": "https://localhost:8080/",
          "height": 569
        },
        "id": "NpwbdSzFDLgO",
        "outputId": "e62abf80-58ea-4e83-8f46-ef1ac4e66637"
      },
      "execution_count": null,
      "outputs": [
        {
          "output_type": "stream",
          "name": "stdout",
          "text": [
            "                                  Skills  Counts\n",
            "0  IT Software - Application Programming    5989\n",
            "1                                  Sales    2893\n",
            "2                                   ITES    1640\n",
            "3                               Teaching    1091\n",
            "4                                     HR     928\n"
          ]
        },
        {
          "output_type": "display_data",
          "data": {
            "image/png": "[encoded data removed]",
            "text/plain": [
              "<Figure size 432x288 with 1 Axes>"
            ]
          },
          "metadata": {
            "needs_background": "light"
          }
        },
        {
          "output_type": "display_data",
          "data": {
            "text/plain": [
              "<Figure size 864x432 with 0 Axes>"
            ]
          },
          "metadata": {}
        }
      ]
    },
    {
      "cell_type": "code",
      "source": [
        "# Cities and Job counts\n",
        "perform_analysis(data,'joblocation_address','Cities','No of Jobs',2)"
      ],
      "metadata": {
        "colab": {
          "base_uri": "https://localhost:8080/",
          "height": 370
        },
        "id": "dLAz_xslEJ1-",
        "outputId": "4b804c7b-a351-4a77-8321-c882229efc88"
      },
      "execution_count": null,
      "outputs": [
        {
          "output_type": "stream",
          "name": "stdout",
          "text": [
            "               Cities  No of Jobs\n",
            "0  Banglore/Bangalore        3775\n",
            "1               Delhi        2385\n",
            "2              Mumbai        2373\n",
            "3           Hyderabad        2182\n",
            "4            Banglore        1453\n"
          ]
        },
        {
          "output_type": "display_data",
          "data": {
            "image/png": "[encoded data removed]",
            "text/plain": [
              "<Figure size 432x288 with 1 Axes>"
            ]
          },
          "metadata": {}
        },
        {
          "output_type": "display_data",
          "data": {
            "text/plain": [
              "<Figure size 864x432 with 0 Axes>"
            ]
          },
          "metadata": {}
        }
      ]
    },
    {
      "cell_type": "code",
      "source": [
        ""
      ],
      "metadata": {
        "id": "LXrJ8BxWEeUk"
      },
      "execution_count": null,
      "outputs": []
    }
  ]
}